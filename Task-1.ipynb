{
 "cells": [
  {
   "cell_type": "code",
   "execution_count": 71,
   "metadata": {
    "execution": {
     "iopub.execute_input": "2024-11-26T16:12:36.478235Z",
     "iopub.status.busy": "2024-11-26T16:12:36.477929Z",
     "iopub.status.idle": "2024-11-26T16:12:36.482490Z",
     "shell.execute_reply": "2024-11-26T16:12:36.481626Z",
     "shell.execute_reply.started": "2024-11-26T16:12:36.478211Z"
    },
    "id": "mMeqSb1MCthH",
    "trusted": true
   },
   "outputs": [],
   "source": [
    "import numpy as np\n",
    "import matplotlib.pyplot as plt\n",
    "import torch\n",
    "import torch.nn as nn\n",
    "import torchvision.models as models\n",
    "import torchvision.transforms as transforms\n",
    "import cv2"
   ]
  },
  {
   "cell_type": "code",
   "execution_count": 72,
   "metadata": {
    "execution": {
     "iopub.execute_input": "2024-11-26T16:12:36.767936Z",
     "iopub.status.busy": "2024-11-26T16:12:36.767636Z",
     "iopub.status.idle": "2024-11-26T16:12:36.783892Z",
     "shell.execute_reply": "2024-11-26T16:12:36.782975Z",
     "shell.execute_reply.started": "2024-11-26T16:12:36.767910Z"
    },
    "id": "5A9mf2zSCthI",
    "trusted": true
   },
   "outputs": [],
   "source": [
    "class Img2Vec():\n",
    "    RESNET_OUTPUT_SIZES = {\n",
    "        'resnet18': 512,\n",
    "        'resnet34': 512,\n",
    "        'resnet50': 2048,\n",
    "        'resnet101': 2048,\n",
    "        'resnet152': 2048\n",
    "    }\n",
    "\n",
    "    EFFICIENTNET_OUTPUT_SIZES = {\n",
    "        'efficientnet_b0': 1280,\n",
    "        'efficientnet_b1': 1280,\n",
    "        'efficientnet_b2': 1408,\n",
    "        'efficientnet_b3': 1536,\n",
    "        'efficientnet_b4': 1792,\n",
    "        'efficientnet_b5': 2048,\n",
    "        'efficientnet_b6': 2304,\n",
    "        'efficientnet_b7': 2560\n",
    "    }\n",
    "\n",
    "    def __init__(self, cuda=False, model='google/vit-base-patch16-224', gpu=0):\n",
    "        \"\"\"\n",
    "        Img2Vec with Vision Transformer\n",
    "        :param cuda: If set to True, will run forward pass on GPU\n",
    "        :param model: String name of requested model (e.g., 'vit-base-patch16-224')\n",
    "        \"\"\"\n",
    "        self.device = torch.device(f\"cuda:{gpu}\" if cuda else \"cpu\")\n",
    "        self.model_name = model\n",
    "        self.model = ViTModel.from_pretrained(model)\n",
    "        self.feature_extractor = ViTFeatureExtractor.from_pretrained(model)\n",
    "        self.model = self.model.to(self.device)\n",
    "        self.model.eval()\n",
    "\n",
    "    def get_vec(self, img, tensor=False):\n",
    "        \"\"\"\n",
    "        Get vector embedding from PIL image\n",
    "        :param img: PIL Image or list of PIL Images\n",
    "        :param tensor: If True, get_vec will return a FloatTensor instead of Numpy array\n",
    "        :returns: Numpy ndarray\n",
    "        \"\"\"\n",
    "        if type(img) == list:\n",
    "            inputs = self.feature_extractor(images=img, return_tensors=\"pt\")\n",
    "            inputs = {key: value.to(self.device) for key, value in inputs.items()}\n",
    "            with torch.no_grad():\n",
    "                outputs = self.model(**inputs)\n",
    "            embeddings = outputs.last_hidden_state.mean(dim=1)\n",
    "            return embeddings if tensor else embeddings.cpu().numpy()\n",
    "        else:\n",
    "            inputs = self.feature_extractor(images=img, return_tensors=\"pt\")\n",
    "            inputs = {key: value.to(self.device) for key, value in inputs.items()}\n",
    "            with torch.no_grad():\n",
    "                outputs = self.model(**inputs)\n",
    "            embedding = outputs.last_hidden_state.mean(dim=1)\n",
    "            return embedding if tensor else embedding.cpu().numpy()\n",
    "\n",
    "    def _get_model_and_layer(self, model_name, layer):\n",
    "        \"\"\" Internal method for getting layer from model\n",
    "        :param model_name: model name such as 'resnet-18'\n",
    "        :param layer: layer as a string for resnet-18 or int for alexnet\n",
    "        :returns: pytorch model, selected layer\n",
    "        \"\"\"\n",
    "\n",
    "        if model_name.startswith('resnet') and not model_name.startswith('resnet-'):\n",
    "            model = getattr(models, model_name)(pretrained=True)\n",
    "            if layer == 'default':\n",
    "                layer = model._modules.get('avgpool')\n",
    "                self.layer_output_size = self.RESNET_OUTPUT_SIZES[model_name]\n",
    "            else:\n",
    "                layer = model._modules.get(layer)\n",
    "            return model, layer\n",
    "        elif model_name == 'resnet-18':\n",
    "            model = models.resnet18(pretrained=True)\n",
    "            if layer == 'default':\n",
    "                layer = model._modules.get('avgpool')\n",
    "                self.layer_output_size = 512\n",
    "            else:\n",
    "                layer = model._modules.get(layer)\n",
    "\n",
    "            return model, layer\n",
    "\n",
    "        elif model_name == 'alexnet':\n",
    "            model = models.alexnet(pretrained=True)\n",
    "            if layer == 'default':\n",
    "                layer = model.classifier[-2]\n",
    "                self.layer_output_size = 4096\n",
    "            else:\n",
    "                layer = model.classifier[-layer]\n",
    "\n",
    "            return model, layer\n",
    "\n",
    "        elif model_name == 'vgg':\n",
    "            # VGG-11\n",
    "            model = models.vgg11_bn(pretrained=True)\n",
    "            if layer == 'default':\n",
    "                layer = model.classifier[-2]\n",
    "                self.layer_output_size = model.classifier[-1].in_features # should be 4096\n",
    "            else:\n",
    "                layer = model.classifier[-layer]\n",
    "\n",
    "            return model, layer\n",
    "\n",
    "        elif model_name == 'densenet':\n",
    "            # Densenet-121\n",
    "            model = models.densenet121(pretrained=True)\n",
    "            if layer == 'default':\n",
    "                layer = model.features[-1]\n",
    "                self.layer_output_size = model.classifier.in_features # should be 1024\n",
    "            else:\n",
    "                raise KeyError('Un support %s for layer parameters' % model_name)\n",
    "\n",
    "            return model, layer\n",
    "\n",
    "        elif \"efficientnet\" in model_name:\n",
    "            # efficientnet-b0 ~ efficientnet-b7\n",
    "            if model_name == \"efficientnet_b0\":\n",
    "                model = models.efficientnet_b0(pretrained=True)\n",
    "            elif model_name == \"efficientnet_b1\":\n",
    "                model = models.efficientnet_b1(pretrained=True)\n",
    "            elif model_name == \"efficientnet_b2\":\n",
    "                model = models.efficientnet_b2(pretrained=True)\n",
    "            elif model_name == \"efficientnet_b3\":\n",
    "                model = models.efficientnet_b3(pretrained=True)\n",
    "            elif model_name == \"efficientnet_b4\":\n",
    "                model = models.efficientnet_b4(pretrained=True)\n",
    "            elif model_name == \"efficientnet_b5\":\n",
    "                model = models.efficientnet_b5(pretrained=True)\n",
    "            elif model_name == \"efficientnet_b6\":\n",
    "                model = models.efficientnet_b6(pretrained=True)\n",
    "            elif model_name == \"efficientnet_b7\":\n",
    "                model = models.efficientnet_b7(pretrained=True)\n",
    "            else:\n",
    "                raise KeyError('Un support %s.' % model_name)\n",
    "\n",
    "            if layer == 'default':\n",
    "                layer = model.features\n",
    "                self.layer_output_size = self.EFFICIENTNET_OUTPUT_SIZES[model_name]\n",
    "            else:\n",
    "                raise KeyError('Un support %s for layer parameters' % model_name)\n",
    "\n",
    "            return model, layer\n",
    "\n",
    "        else:\n",
    "            raise KeyError('Model %s was not found' % model_name)"
   ]
  },
  {
   "cell_type": "code",
   "execution_count": 73,
   "metadata": {
    "execution": {
     "iopub.execute_input": "2024-11-26T16:12:38.520173Z",
     "iopub.status.busy": "2024-11-26T16:12:38.519865Z",
     "iopub.status.idle": "2024-11-26T16:12:38.524157Z",
     "shell.execute_reply": "2024-11-26T16:12:38.523157Z",
     "shell.execute_reply.started": "2024-11-26T16:12:38.520147Z"
    },
    "id": "4g7jxLHsCthK",
    "trusted": true
   },
   "outputs": [],
   "source": [
    "import unittest\n",
    "from PIL import Image"
   ]
  },
  {
   "cell_type": "code",
   "execution_count": 74,
   "metadata": {
    "colab": {
     "base_uri": "https://localhost:8080/"
    },
    "execution": {
     "iopub.execute_input": "2024-11-26T16:12:40.106537Z",
     "iopub.status.busy": "2024-11-26T16:12:40.105842Z",
     "iopub.status.idle": "2024-11-26T16:12:40.640431Z",
     "shell.execute_reply": "2024-11-26T16:12:40.639524Z",
     "shell.execute_reply.started": "2024-11-26T16:12:40.106502Z"
    },
    "id": "JCy5e1emCthL",
    "outputId": "b36a9155-d6c2-4808-f326-804284e4dc42",
    "trusted": true
   },
   "outputs": [
    {
     "name": "stderr",
     "output_type": "stream",
     "text": [
      "Some weights of ViTModel were not initialized from the model checkpoint at google/vit-base-patch16-224 and are newly initialized: ['vit.pooler.dense.bias', 'vit.pooler.dense.weight']\n",
      "You should probably TRAIN this model on a down-stream task to be able to use it for predictions and inference.\n",
      "/opt/conda/lib/python3.10/site-packages/transformers/models/vit/feature_extraction_vit.py:28: FutureWarning: The class ViTFeatureExtractor is deprecated and will be removed in version 5 of Transformers. Please use ViTImageProcessor instead.\n",
      "  warnings.warn(\n"
     ]
    }
   ],
   "source": [
    "from transformers import ViTModel, ViTFeatureExtractor\n",
    "iv = Img2Vec(cuda=True, model='google/vit-base-patch16-224', gpu=0)"
   ]
  },
  {
   "cell_type": "code",
   "execution_count": 75,
   "metadata": {
    "colab": {
     "base_uri": "https://localhost:8080/"
    },
    "execution": {
     "iopub.execute_input": "2024-11-26T16:12:45.265541Z",
     "iopub.status.busy": "2024-11-26T16:12:45.264684Z",
     "iopub.status.idle": "2024-11-26T16:12:45.314892Z",
     "shell.execute_reply": "2024-11-26T16:12:45.313971Z",
     "shell.execute_reply.started": "2024-11-26T16:12:45.265503Z"
    },
    "id": "4LTzlnc9CthM",
    "outputId": "de589e5e-ebd4-4e0f-a625-b37f8fd999e5",
    "trusted": true
   },
   "outputs": [
    {
     "name": "stdout",
     "output_type": "stream",
     "text": [
      "dict_keys(['data', 'targets'])\n"
     ]
    },
    {
     "name": "stderr",
     "output_type": "stream",
     "text": [
      "/tmp/ipykernel_30/1291131315.py:1: FutureWarning: You are using `torch.load` with `weights_only=False` (the current default value), which uses the default pickle module implicitly. It is possible to construct malicious pickle data which will execute arbitrary code during unpickling (See https://github.com/pytorch/pytorch/blob/main/SECURITY.md#untrusted-models for more details). In a future release, the default value for `weights_only` will be flipped to `True`. This limits the functions that could be executed during unpickling. Arbitrary objects will no longer be allowed to be loaded via this mode unless they are explicitly allowlisted by the user via `torch.serialization.add_safe_globals`. We recommend you start setting `weights_only=True` for any use case where you don't have full control of the loaded file. Please open an issue on GitHub for any issues related to this experimental feature.\n",
      "  t = torch.load(r'/kaggle/input/train-data-part-1/1_train_data.tar.pth')\n"
     ]
    }
   ],
   "source": [
    "t = torch.load(r'/kaggle/input/train-data-part-1/1_train_data.tar.pth')\n",
    "print(t.keys()) # it will print data and targets\n",
    "data, targets = t['data'], t['targets'] # both numpy.ndarray"
   ]
  },
  {
   "cell_type": "code",
   "execution_count": 77,
   "metadata": {
    "colab": {
     "base_uri": "https://localhost:8080/"
    },
    "execution": {
     "iopub.execute_input": "2024-11-26T16:14:27.539783Z",
     "iopub.status.busy": "2024-11-26T16:14:27.539405Z",
     "iopub.status.idle": "2024-11-26T16:14:27.545362Z",
     "shell.execute_reply": "2024-11-26T16:14:27.544461Z",
     "shell.execute_reply.started": "2024-11-26T16:14:27.539751Z"
    },
    "id": "y1bGjltuCthM",
    "outputId": "fd0a50a1-db46-4f5b-9af1-7d83fd60451d",
    "trusted": true
   },
   "outputs": [
    {
     "data": {
      "text/plain": [
       "numpy.ndarray"
      ]
     },
     "execution_count": 77,
     "metadata": {},
     "output_type": "execute_result"
    }
   ],
   "source": [
    "type(data)"
   ]
  },
  {
   "cell_type": "code",
   "execution_count": 78,
   "metadata": {
    "colab": {
     "base_uri": "https://localhost:8080/"
    },
    "execution": {
     "iopub.execute_input": "2024-11-26T16:14:28.219450Z",
     "iopub.status.busy": "2024-11-26T16:14:28.218618Z",
     "iopub.status.idle": "2024-11-26T16:14:28.224584Z",
     "shell.execute_reply": "2024-11-26T16:14:28.223520Z",
     "shell.execute_reply.started": "2024-11-26T16:14:28.219414Z"
    },
    "id": "zIsN-oigCthN",
    "outputId": "66602b46-0537-4a4d-c4c8-19c76e82dbe5",
    "trusted": true
   },
   "outputs": [
    {
     "name": "stdout",
     "output_type": "stream",
     "text": [
      "[0 1 2 3 4 5 6 7 8 9]\n"
     ]
    }
   ],
   "source": [
    "unique_classes = np.unique(targets)\n",
    "print(unique_classes)"
   ]
  },
  {
   "cell_type": "markdown",
   "metadata": {
    "id": "aycEBQ2VCthN"
   },
   "source": [
    "### Calculation of average Vector"
   ]
  },
  {
   "cell_type": "code",
   "execution_count": 79,
   "metadata": {
    "colab": {
     "base_uri": "https://localhost:8080/",
     "height": 356
    },
    "execution": {
     "iopub.execute_input": "2024-11-26T16:14:32.456452Z",
     "iopub.status.busy": "2024-11-26T16:14:32.456111Z",
     "iopub.status.idle": "2024-11-26T16:15:05.291256Z",
     "shell.execute_reply": "2024-11-26T16:15:05.290274Z",
     "shell.execute_reply.started": "2024-11-26T16:14:32.456423Z"
    },
    "id": "ugPz3HO4CthO",
    "outputId": "c209b521-8eb8-4505-d613-25948f7a2c5b",
    "trusted": true
   },
   "outputs": [],
   "source": [
    "vecs = []\n",
    "for cls in unique_classes:\n",
    "    cls_imgs = data[targets == cls]\n",
    "    cls_vecs = []\n",
    "    for imgs in cls_imgs:\n",
    "        im = Image.fromarray(imgs)\n",
    "        features = iv.get_vec(im)\n",
    "        cls_vecs.append(features)\n",
    "    vecs.append(cls_vecs)"
   ]
  },
  {
   "cell_type": "code",
   "execution_count": 80,
   "metadata": {
    "colab": {
     "base_uri": "https://localhost:8080/"
    },
    "execution": {
     "iopub.execute_input": "2024-11-26T16:15:05.293092Z",
     "iopub.status.busy": "2024-11-26T16:15:05.292788Z",
     "iopub.status.idle": "2024-11-26T16:15:05.298995Z",
     "shell.execute_reply": "2024-11-26T16:15:05.298102Z",
     "shell.execute_reply.started": "2024-11-26T16:15:05.293067Z"
    },
    "id": "iSzUlGGaCthO",
    "outputId": "43b66bf2-cdc8-4a8d-b89f-d35b424425ca",
    "trusted": true
   },
   "outputs": [
    {
     "data": {
      "text/plain": [
       "(1, 768)"
      ]
     },
     "execution_count": 80,
     "metadata": {},
     "output_type": "execute_result"
    }
   ],
   "source": [
    "features.shape"
   ]
  },
  {
   "cell_type": "code",
   "execution_count": 81,
   "metadata": {
    "colab": {
     "base_uri": "https://localhost:8080/"
    },
    "execution": {
     "iopub.execute_input": "2024-11-26T16:15:05.300213Z",
     "iopub.status.busy": "2024-11-26T16:15:05.299970Z",
     "iopub.status.idle": "2024-11-26T16:15:05.310301Z",
     "shell.execute_reply": "2024-11-26T16:15:05.309623Z",
     "shell.execute_reply.started": "2024-11-26T16:15:05.300190Z"
    },
    "id": "WjPGV4JxCthO",
    "outputId": "26d95293-1d57-4b41-85f9-2f4fbfa178e4",
    "trusted": true
   },
   "outputs": [
    {
     "name": "stdout",
     "output_type": "stream",
     "text": [
      "<class 'list'>\n",
      "10 253 (1, 768)\n"
     ]
    }
   ],
   "source": [
    "print(type(vecs))\n",
    "print(len(vecs), len(vecs[0]), vecs[0][0].shape)"
   ]
  },
  {
   "cell_type": "code",
   "execution_count": 82,
   "metadata": {
    "colab": {
     "base_uri": "https://localhost:8080/"
    },
    "execution": {
     "iopub.execute_input": "2024-11-26T16:15:05.312737Z",
     "iopub.status.busy": "2024-11-26T16:15:05.312193Z",
     "iopub.status.idle": "2024-11-26T16:15:05.327578Z",
     "shell.execute_reply": "2024-11-26T16:15:05.326702Z",
     "shell.execute_reply.started": "2024-11-26T16:15:05.312709Z"
    },
    "id": "JhyGR8PgCthO",
    "outputId": "335891ee-fcaa-4e49-fddc-f17b5447ae4f",
    "trusted": true
   },
   "outputs": [
    {
     "name": "stdout",
     "output_type": "stream",
     "text": [
      "<class 'list'>\n",
      "10 253 (768,)\n"
     ]
    }
   ],
   "source": [
    "# import numpy as np\n",
    "\n",
    "# Reshape vecs to remove the singleton dimension\n",
    "reshaped_vecs = [[features.squeeze() for features in cls_vecs] for cls_vecs in vecs]\n",
    "\n",
    "print(type(reshaped_vecs))\n",
    "print(len(reshaped_vecs), len(reshaped_vecs[0]), reshaped_vecs[0][0].shape)"
   ]
  },
  {
   "cell_type": "code",
   "execution_count": 83,
   "metadata": {
    "execution": {
     "iopub.execute_input": "2024-11-26T16:15:05.328852Z",
     "iopub.status.busy": "2024-11-26T16:15:05.328545Z",
     "iopub.status.idle": "2024-11-26T16:15:05.336581Z",
     "shell.execute_reply": "2024-11-26T16:15:05.336012Z",
     "shell.execute_reply.started": "2024-11-26T16:15:05.328791Z"
    },
    "id": "bucRAUM_CthO",
    "trusted": true
   },
   "outputs": [],
   "source": [
    "avg_vec = []\n",
    "for i in reshaped_vecs:\n",
    "    arr = np.array(i)\n",
    "    mean = np.mean(arr, axis = 0)\n",
    "    avg_vec.append(mean)\n",
    "avg_vec = np.array(avg_vec)"
   ]
  },
  {
   "cell_type": "code",
   "execution_count": 84,
   "metadata": {
    "colab": {
     "base_uri": "https://localhost:8080/"
    },
    "execution": {
     "iopub.execute_input": "2024-11-26T16:15:05.337742Z",
     "iopub.status.busy": "2024-11-26T16:15:05.337490Z",
     "iopub.status.idle": "2024-11-26T16:15:05.344850Z",
     "shell.execute_reply": "2024-11-26T16:15:05.344167Z",
     "shell.execute_reply.started": "2024-11-26T16:15:05.337717Z"
    },
    "id": "JSHlP8TzCthO",
    "outputId": "2a32c8ca-4f01-4761-d72e-821886662bdf",
    "trusted": true
   },
   "outputs": [
    {
     "data": {
      "text/plain": [
       "(10, 768)"
      ]
     },
     "execution_count": 84,
     "metadata": {},
     "output_type": "execute_result"
    }
   ],
   "source": [
    "avg_vec.shape"
   ]
  },
  {
   "cell_type": "markdown",
   "metadata": {},
   "source": [
    "### Visualization for better Understanding"
   ]
  },
  {
   "cell_type": "code",
   "execution_count": 20,
   "metadata": {
    "execution": {
     "iopub.execute_input": "2024-11-26T14:31:03.245612Z",
     "iopub.status.busy": "2024-11-26T14:31:03.244741Z",
     "iopub.status.idle": "2024-11-26T14:31:03.318655Z",
     "shell.execute_reply": "2024-11-26T14:31:03.317880Z",
     "shell.execute_reply.started": "2024-11-26T14:31:03.245578Z"
    },
    "id": "NTEL9LmXCthP",
    "trusted": true
   },
   "outputs": [],
   "source": [
    "from sklearn.manifold import TSNE"
   ]
  },
  {
   "cell_type": "code",
   "execution_count": 21,
   "metadata": {
    "colab": {
     "base_uri": "https://localhost:8080/",
     "height": 565
    },
    "execution": {
     "iopub.execute_input": "2024-11-26T14:31:05.423151Z",
     "iopub.status.busy": "2024-11-26T14:31:05.422433Z",
     "iopub.status.idle": "2024-11-26T14:31:06.036848Z",
     "shell.execute_reply": "2024-11-26T14:31:06.036006Z",
     "shell.execute_reply.started": "2024-11-26T14:31:05.423117Z"
    },
    "id": "N3JmlchvCthP",
    "outputId": "e6a7004f-f14b-46af-f7f0-ee5b34d69068",
    "trusted": true
   },
   "outputs": [
    {
     "name": "stderr",
     "output_type": "stream",
     "text": [
      "/tmp/ipykernel_30/3750343311.py:8: MatplotlibDeprecationWarning: The get_cmap function was deprecated in Matplotlib 3.7 and will be removed two minor releases later. Use ``matplotlib.colormaps[name]`` or ``matplotlib.colormaps.get_cmap(obj)`` instead.\n",
      "  colors = plt.cm.get_cmap(\"tab10\", avg_vec.shape[0])  # A colormap with unique colors\n"
     ]
    },
    {
     "data": {
      "image/png": "[encoded data removed]",
      "text/plain": [
       "<Figure size 800x600 with 1 Axes>"
      ]
     },
     "metadata": {},
     "output_type": "display_data"
    }
   ],
   "source": [
    "tsne = TSNE(n_components=2, random_state=42, perplexity=5)\n",
    "avg_vec_2d = tsne.fit_transform(avg_vec)\n",
    "\n",
    "# Visualize the 2D scatter plot\n",
    "plt.figure(figsize=(8, 6))\n",
    "\n",
    "# Assign unique colors for each class\n",
    "colors = plt.cm.get_cmap(\"tab10\", avg_vec.shape[0])  # A colormap with unique colors\n",
    "\n",
    "for i in range(avg_vec_2d.shape[0]):\n",
    "    plt.scatter(avg_vec_2d[i, 0], avg_vec_2d[i, 1],\n",
    "                label=f\"Class {i}\", color=colors(i))\n",
    "\n",
    "# Add labels, title, and legend\n",
    "plt.title(\"2D Visualization of Mean Vectors (t-SNE)\")\n",
    "plt.xlabel(\"t-SNE Component 1\")\n",
    "plt.ylabel(\"t-SNE Component 2\")\n",
    "plt.legend()\n",
    "plt.grid()\n",
    "\n",
    "plt.show()"
   ]
  },
  {
   "cell_type": "markdown",
   "metadata": {},
   "source": [
    "#### LwP Preditiction Visualization thorugh TSNE"
   ]
  },
  {
   "cell_type": "code",
   "execution_count": null,
   "metadata": {
    "colab": {
     "base_uri": "https://localhost:8080/"
    },
    "id": "ljiQIa7KCthP",
    "outputId": "26e16191-4756-4d67-aaca-4215425a41d7"
   },
   "outputs": [
    {
     "name": "stdout",
     "output_type": "stream",
     "text": [
      "dict_keys(['data', 'targets'])"
     ]
    },
    {
     "name": "stderr",
     "output_type": "stream",
     "text": [
      "<ipython-input-26-2ba4632fd697>:1: FutureWarning: You are using `torch.load` with `weights_only=False` (the current default value), which uses the default pickle module implicitly. It is possible to construct malicious pickle data which will execute arbitrary code during unpickling (See https://github.com/pytorch/pytorch/blob/main/SECURITY.md#untrusted-models for more details). In a future release, the default value for `weights_only` will be flipped to `True`. This limits the functions that could be executed during unpickling. Arbitrary objects will no longer be allowed to be loaded via this mode unless they are explicitly allowlisted by the user via `torch.serialization.add_safe_globals`. We recommend you start setting `weights_only=True` for any use case where you don't have full control of the loaded file. Please open an issue on GitHub for any issues related to this experimental feature.\n",
      "  testt = torch.load(r'/content/1_eval_data.tar.pth')"
     ]
    }
   ],
   "source": [
    "testt = torch.load(r'/content/1_eval_data.tar.pth')\n",
    "print(testt.keys()) # it will print data and targets\n",
    "input, y_t = testt['data'], testt['targets'] # both numpy.ndarray"
   ]
  },
  {
   "cell_type": "code",
   "execution_count": null,
   "metadata": {
    "colab": {
     "base_uri": "https://localhost:8080/"
    },
    "id": "w6w08x0uCthP",
    "outputId": "ad8647cd-ea22-4dda-b301-3bbcef6a940a"
   },
   "outputs": [
    {
     "name": "stdout",
     "output_type": "stream",
     "text": [
      "(32, 32, 3)"
     ]
    }
   ],
   "source": [
    "test_img = input[36]\n",
    "print(test_img.shape)\n",
    "test_im = Image.fromarray(test_img)"
   ]
  },
  {
   "cell_type": "code",
   "execution_count": null,
   "metadata": {
    "colab": {
     "base_uri": "https://localhost:8080/",
     "height": 49
    },
    "id": "2PAqlm0PCthP",
    "outputId": "7e5fc705-4ef9-441d-99cf-0eaff82533c0"
   },
   "outputs": [
    {
     "data": {
      "image/jpeg": "[encoded data removed]",
      "image/png": "[encoded data removed]",
      "text/plain": [
       "<PIL.Image.Image image mode=RGB size=32x32>"
      ]
     },
     "execution_count": 28,
     "metadata": {},
     "output_type": "execute_result"
    }
   ],
   "source": [
    "test_im"
   ]
  },
  {
   "cell_type": "code",
   "execution_count": null,
   "metadata": {
    "colab": {
     "base_uri": "https://localhost:8080/"
    },
    "id": "1L0IE3XfCthP",
    "outputId": "c599cebe-6232-4a6d-af50-60d138843134"
   },
   "outputs": [
    {
     "data": {
      "text/plain": [
       "(768,)"
      ]
     },
     "execution_count": 29,
     "metadata": {},
     "output_type": "execute_result"
    }
   ],
   "source": [
    "avg_vec[0].shape"
   ]
  },
  {
   "cell_type": "code",
   "execution_count": null,
   "metadata": {
    "id": "nm_9vfU_CthP"
   },
   "outputs": [],
   "source": [
    "test_vector = iv.get_vec(test_im)\n",
    "test_vector=test_vector.squeeze()"
   ]
  },
  {
   "cell_type": "code",
   "execution_count": null,
   "metadata": {
    "colab": {
     "base_uri": "https://localhost:8080/"
    },
    "id": "QDQ8-HooCthP",
    "outputId": "8a9df837-0417-4aa7-d894-2475f098135d"
   },
   "outputs": [
    {
     "data": {
      "text/plain": [
       "(768,)"
      ]
     },
     "execution_count": 31,
     "metadata": {},
     "output_type": "execute_result"
    }
   ],
   "source": [
    "test_vector.shape"
   ]
  },
  {
   "cell_type": "code",
   "execution_count": null,
   "metadata": {
    "colab": {
     "base_uri": "https://localhost:8080/",
     "height": 565
    },
    "id": "lr0wfNt9CthP",
    "outputId": "bdc6f2f9-0a67-43b5-c009-18caa0996d33"
   },
   "outputs": [
    {
     "name": "stderr",
     "output_type": "stream",
     "text": [
      "<ipython-input-32-09d8fe90a372>:16: MatplotlibDeprecationWarning: The get_cmap function was deprecated in Matplotlib 3.7 and will be removed two minor releases later. Use ``matplotlib.colormaps[name]`` or ``matplotlib.colormaps.get_cmap(obj)`` instead.\n",
      "  colors = plt.cm.get_cmap(\"tab10\", avg_vec.shape[0])  # A colormap with unique colors"
     ]
    },
    {
     "data": {
      "image/png": "[encoded data removed]",
      "text/plain": [
       "<Figure size 800x600 with 1 Axes>"
      ]
     },
     "metadata": {},
     "output_type": "display_data"
    }
   ],
   "source": [
    "# Combine avg_vec and test_vector\n",
    "combined_vec = np.vstack([avg_vec, test_vector])  # Shape becomes (11, 512)\n",
    "\n",
    "# Reduce the dimensionality to 2D using t-SNE\n",
    "tsne = TSNE(n_components=2, random_state=42, perplexity=5)\n",
    "combined_vec_2d = tsne.fit_transform(combined_vec)\n",
    "\n",
    "# Separate the transformed data\n",
    "avg_vec_2d = combined_vec_2d[:-1]  # First 10 points are the classes\n",
    "test_vec_2d = combined_vec_2d[-1]  # Last point is the test vector\n",
    "\n",
    "# Visualize the 2D scatter plot\n",
    "plt.figure(figsize=(8, 6))\n",
    "\n",
    "# Assign unique colors for each class\n",
    "colors = plt.cm.get_cmap(\"tab10\", avg_vec.shape[0])  # A colormap with unique colors\n",
    "\n",
    "for i in range(avg_vec_2d.shape[0]):\n",
    "    plt.scatter(avg_vec_2d[i, 0], avg_vec_2d[i, 1],\n",
    "                label=f\"Class {i}\", color=colors(i))\n",
    "\n",
    "# Add the test vector to the plot with a unique marker and color\n",
    "plt.scatter(test_vec_2d[0], test_vec_2d[1], label=\"Test Input\", color=\"black\", marker=\"*\", s=200)\n",
    "\n",
    "# Add labels, title, and legend\n",
    "plt.title(\"2D Visualization of Mean Vectors (t-SNE) with Test Input\")\n",
    "plt.xlabel(\"t-SNE Component 1\")\n",
    "plt.ylabel(\"t-SNE Component 2\")\n",
    "plt.legend()\n",
    "plt.grid()\n",
    "\n",
    "plt.show()"
   ]
  },
  {
   "cell_type": "code",
   "execution_count": null,
   "metadata": {
    "colab": {
     "base_uri": "https://localhost:8080/"
    },
    "id": "MwgDJPDKCthQ",
    "outputId": "36d1f40d-b258-40b3-fbf8-c23b0f24454d"
   },
   "outputs": [
    {
     "name": "stdout",
     "output_type": "stream",
     "text": [
      "Distance from test_vec_2d to Class 0: 43.5223\n",
      "Distance from test_vec_2d to Class 1: 40.3474\n",
      "Distance from test_vec_2d to Class 2: 38.0372\n",
      "Distance from test_vec_2d to Class 3: 27.5113\n",
      "Distance from test_vec_2d to Class 4: 46.4105\n",
      "Distance from test_vec_2d to Class 5: 28.4357\n",
      "Distance from test_vec_2d to Class 6: 11.7325\n",
      "Distance from test_vec_2d to Class 7: 37.0444\n",
      "Distance from test_vec_2d to Class 8: 53.3621\n",
      "Distance from test_vec_2d to Class 9: 49.2070"
     ]
    }
   ],
   "source": [
    "distances = np.linalg.norm(avg_vec_2d - test_vec_2d, axis=1)\n",
    "\n",
    "# Display distances\n",
    "for i, dist in enumerate(distances):\n",
    "    print(f\"Distance from test_vec_2d to Class {i}: {dist:.4f}\")"
   ]
  },
  {
   "cell_type": "code",
   "execution_count": null,
   "metadata": {
    "colab": {
     "base_uri": "https://localhost:8080/"
    },
    "id": "Kf7CE7bdCthQ",
    "outputId": "e684171e-b954-4522-8216-fbb87132f59a"
   },
   "outputs": [
    {
     "data": {
      "text/plain": [
       "6"
      ]
     },
     "execution_count": 34,
     "metadata": {},
     "output_type": "execute_result"
    }
   ],
   "source": [
    "np.argmin(distances)"
   ]
  },
  {
   "cell_type": "markdown",
   "metadata": {},
   "source": []
  },
  {
   "cell_type": "markdown",
   "metadata": {},
   "source": [
    "### Prediction"
   ]
  },
  {
   "cell_type": "code",
   "execution_count": 25,
   "metadata": {
    "execution": {
     "iopub.execute_input": "2024-11-26T14:31:31.639266Z",
     "iopub.status.busy": "2024-11-26T14:31:31.638879Z",
     "iopub.status.idle": "2024-11-26T14:31:31.644474Z",
     "shell.execute_reply": "2024-11-26T14:31:31.643513Z",
     "shell.execute_reply.started": "2024-11-26T14:31:31.639239Z"
    },
    "id": "ApjMKR8rCthQ",
    "trusted": true
   },
   "outputs": [],
   "source": [
    "def predict_class_orig(avg_vec, test_im):\n",
    "    test_vector = iv.get_vec(test_im)\n",
    "    test_vector =test_vector.squeeze()\n",
    "    # combined_vec = np.vstack([avg_vec, test_vector])  # Shape becomes (11, 512)\n",
    "\n",
    "    # # Reduce the dimensionality to 2D using t-SNE\n",
    "    # tsne = TSNE(n_components=2, random_state=42, perplexity=5)\n",
    "    # combined_vec_2d = tsne.fit_transform(combined_vec)\n",
    "\n",
    "    # # Separate the transformed data\n",
    "    # avg_vec_2d = combined_vec_2d[:-1]  # First 10 points are the classes\n",
    "    # test_vec_2d = combined_vec_2d[-1]\n",
    "\n",
    "    distances = np.linalg.norm(avg_vec - test_vector, axis=1)\n",
    "    return np.argmin(distances)"
   ]
  },
  {
   "cell_type": "code",
   "execution_count": 55,
   "metadata": {
    "execution": {
     "iopub.execute_input": "2024-11-26T15:27:29.382788Z",
     "iopub.status.busy": "2024-11-26T15:27:29.382469Z",
     "iopub.status.idle": "2024-11-26T15:27:29.387564Z",
     "shell.execute_reply": "2024-11-26T15:27:29.386619Z",
     "shell.execute_reply.started": "2024-11-26T15:27:29.382759Z"
    },
    "id": "nTQEiczhCthQ",
    "trusted": true
   },
   "outputs": [],
   "source": [
    "def predicted_targets_orig(test_set, avg_vec):\n",
    "    preds = []\n",
    "    for nda in test_set:\n",
    "        test_im = Image.fromarray(nda)\n",
    "        class_pred = predict_class_orig(avg_vec, test_im)\n",
    "        preds.append(class_pred)\n",
    "    return np.array(preds)"
   ]
  },
  {
   "cell_type": "markdown",
   "metadata": {},
   "source": [
    "#### Testing One iteration for D1 and D2 Manually"
   ]
  },
  {
   "cell_type": "markdown",
   "metadata": {},
   "source": [
    "checking train accuracy on Data set 1"
   ]
  },
  {
   "cell_type": "code",
   "execution_count": null,
   "metadata": {
    "id": "qt3VBap4CthQ"
   },
   "outputs": [],
   "source": [
    "y_hat = predicted_targets_orig(data, avg_vec)"
   ]
  },
  {
   "cell_type": "code",
   "execution_count": null,
   "metadata": {
    "colab": {
     "base_uri": "https://localhost:8080/"
    },
    "id": "klhfT5EBCthQ",
    "outputId": "c5b53bb1-8129-4446-fc3e-4d272a1b52ef"
   },
   "outputs": [
    {
     "data": {
      "text/plain": [
       "array([6, 9, 8, ..., 9, 9, 7])"
      ]
     },
     "execution_count": 40,
     "metadata": {},
     "output_type": "execute_result"
    }
   ],
   "source": [
    "y_hat"
   ]
  },
  {
   "cell_type": "code",
   "execution_count": null,
   "metadata": {
    "colab": {
     "base_uri": "https://localhost:8080/"
    },
    "id": "cMxBERD7CthV",
    "outputId": "ead7fc0b-7724-463f-ce9b-7973eabcb954"
   },
   "outputs": [
    {
     "data": {
      "text/plain": [
       "array([5, 3, 7, ..., 5, 4, 6])"
      ]
     },
     "execution_count": 41,
     "metadata": {},
     "output_type": "execute_result"
    }
   ],
   "source": [
    "y_t"
   ]
  },
  {
   "cell_type": "code",
   "execution_count": null,
   "metadata": {
    "colab": {
     "base_uri": "https://localhost:8080/"
    },
    "id": "mGaHUOuECthV",
    "outputId": "7184b4dc-96c8-4f9e-a498-3a6393de70d3"
   },
   "outputs": [
    {
     "data": {
      "text/plain": [
       "(2500,)"
      ]
     },
     "execution_count": 42,
     "metadata": {},
     "output_type": "execute_result"
    }
   ],
   "source": [
    "targets.shape"
   ]
  },
  {
   "cell_type": "code",
   "execution_count": null,
   "metadata": {
    "colab": {
     "base_uri": "https://localhost:8080/"
    },
    "id": "qvbp2gh6CthV",
    "outputId": "fcfdce20-1b33-42d3-b2e3-4460fcdd4a70"
   },
   "outputs": [
    {
     "data": {
      "text/plain": [
       "(2500,)"
      ]
     },
     "execution_count": 43,
     "metadata": {},
     "output_type": "execute_result"
    }
   ],
   "source": [
    "y_hat.shape"
   ]
  },
  {
   "cell_type": "code",
   "execution_count": null,
   "metadata": {
    "colab": {
     "base_uri": "https://localhost:8080/"
    },
    "id": "XcDf8nnyCthV",
    "outputId": "e1c048a8-6ccf-4254-8503-dfb9b3e09618"
   },
   "outputs": [
    {
     "data": {
      "text/plain": [
       "(2500,)"
      ]
     },
     "execution_count": 44,
     "metadata": {},
     "output_type": "execute_result"
    }
   ],
   "source": [
    "y_t.shape"
   ]
  },
  {
   "cell_type": "code",
   "execution_count": null,
   "metadata": {
    "id": "neXGroNLCthV"
   },
   "outputs": [],
   "source": [
    "correct = 0\n",
    "for i in range(2500):\n",
    "    if targets[i] == y_hat[i]:\n",
    "        correct+=1"
   ]
  },
  {
   "cell_type": "markdown",
   "metadata": {},
   "source": [
    "Train accuracy for D1 "
   ]
  },
  {
   "cell_type": "code",
   "execution_count": null,
   "metadata": {
    "colab": {
     "base_uri": "https://localhost:8080/"
    },
    "id": "3SDbd57WCthV",
    "outputId": "dda7546b-7e6a-4e98-eada-38bf9f028984"
   },
   "outputs": [
    {
     "data": {
      "text/plain": [
       "0.9476"
      ]
     },
     "execution_count": 46,
     "metadata": {},
     "output_type": "execute_result"
    }
   ],
   "source": [
    "correct/2500"
   ]
  },
  {
   "cell_type": "markdown",
   "metadata": {
    "id": "4N1_ymrkCthV"
   },
   "source": [
    "ViT eval1 Prediction and Accuracy"
   ]
  },
  {
   "cell_type": "code",
   "execution_count": null,
   "metadata": {
    "colab": {
     "base_uri": "https://localhost:8080/"
    },
    "id": "neStqBHGCthV",
    "outputId": "578e4496-9e47-44a1-ebc6-18937ba0a1c1"
   },
   "outputs": [
    {
     "name": "stderr",
     "output_type": "stream",
     "text": [
      "<ipython-input-47-3e73d66c01c1>:1: FutureWarning: You are using `torch.load` with `weights_only=False` (the current default value), which uses the default pickle module implicitly. It is possible to construct malicious pickle data which will execute arbitrary code during unpickling (See https://github.com/pytorch/pytorch/blob/main/SECURITY.md#untrusted-models for more details). In a future release, the default value for `weights_only` will be flipped to `True`. This limits the functions that could be executed during unpickling. Arbitrary objects will no longer be allowed to be loaded via this mode unless they are explicitly allowlisted by the user via `torch.serialization.add_safe_globals`. We recommend you start setting `weights_only=True` for any use case where you don't have full control of the loaded file. Please open an issue on GitHub for any issues related to this experimental feature.\n",
      "  t_eval1 = torch.load(r\"/content/1_eval_data.tar.pth\")"
     ]
    }
   ],
   "source": [
    "t_eval1 = torch.load(r\"/content/1_eval_data.tar.pth\")\n",
    "eval_data1, eval_targets1 = t_eval1['data'], t_eval1['targets']"
   ]
  },
  {
   "cell_type": "code",
   "execution_count": null,
   "metadata": {
    "id": "oq5oKJWeCthV"
   },
   "outputs": [],
   "source": [
    "yhat_eval1 = predicted_targets_orig(eval_data1, avg_vec)"
   ]
  },
  {
   "cell_type": "markdown",
   "metadata": {},
   "source": [
    "#### Accuaracy on evaluation dataset 1"
   ]
  },
  {
   "cell_type": "code",
   "execution_count": null,
   "metadata": {
    "colab": {
     "base_uri": "https://localhost:8080/"
    },
    "id": "qAl_ImwYCthV",
    "outputId": "d1ac8c80-1111-4c49-89c3-0f24247065e0"
   },
   "outputs": [
    {
     "name": "stdout",
     "output_type": "stream",
     "text": [
      "0.9416"
     ]
    }
   ],
   "source": [
    "correct = 0\n",
    "for i in range(2500):\n",
    "    if eval_targets1[i] == yhat_eval1[i]:\n",
    "        correct+=1\n",
    "\n",
    "print(correct/2500)"
   ]
  },
  {
   "cell_type": "markdown",
   "metadata": {},
   "source": [
    "#### Loading dataset2"
   ]
  },
  {
   "cell_type": "code",
   "execution_count": null,
   "metadata": {
    "colab": {
     "base_uri": "https://localhost:8080/"
    },
    "id": "uHE-DeNcCthV",
    "outputId": "8193f8d3-86b7-4445-9e45-6d3ffcca04be"
   },
   "outputs": [
    {
     "name": "stdout",
     "output_type": "stream",
     "text": [
      "dict_keys(['data'])"
     ]
    },
    {
     "name": "stderr",
     "output_type": "stream",
     "text": [
      "<ipython-input-50-25f7ae48c904>:1: FutureWarning: You are using `torch.load` with `weights_only=False` (the current default value), which uses the default pickle module implicitly. It is possible to construct malicious pickle data which will execute arbitrary code during unpickling (See https://github.com/pytorch/pytorch/blob/main/SECURITY.md#untrusted-models for more details). In a future release, the default value for `weights_only` will be flipped to `True`. This limits the functions that could be executed during unpickling. Arbitrary objects will no longer be allowed to be loaded via this mode unless they are explicitly allowlisted by the user via `torch.serialization.add_safe_globals`. We recommend you start setting `weights_only=True` for any use case where you don't have full control of the loaded file. Please open an issue on GitHub for any issues related to this experimental feature.\n",
      "  t2 = torch.load(r'/content/2_train_data.tar.pth')"
     ]
    }
   ],
   "source": [
    "t2 = torch.load(r'/content/2_train_data.tar.pth')\n",
    "print(t2.keys()) # it will print data and targets\n",
    "data2 = t2['data'] # both numpy.ndarray"
   ]
  },
  {
   "cell_type": "markdown",
   "metadata": {},
   "source": [
    "#### Predictiong Psuedo labels for train dataset2"
   ]
  },
  {
   "cell_type": "code",
   "execution_count": null,
   "metadata": {
    "id": "VqrLfGNFCthW"
   },
   "outputs": [],
   "source": [
    "targets2 = predicted_targets_orig(data2, avg_vec)"
   ]
  },
  {
   "cell_type": "code",
   "execution_count": null,
   "metadata": {
    "colab": {
     "base_uri": "https://localhost:8080/"
    },
    "id": "lZdNDODbCthW",
    "outputId": "3540551c-33f2-4219-e390-e7113ff6453f"
   },
   "outputs": [
    {
     "data": {
      "text/plain": [
       "array([0, 1, 2, 3, 4, 5, 6, 7, 8, 9])"
      ]
     },
     "execution_count": 52,
     "metadata": {},
     "output_type": "execute_result"
    }
   ],
   "source": [
    "np.unique(targets2)"
   ]
  },
  {
   "cell_type": "code",
   "execution_count": null,
   "metadata": {
    "id": "teneKksKCthW"
   },
   "outputs": [],
   "source": [
    "vecs2 = []\n",
    "for cls in unique_classes:\n",
    "    cls_imgs2 = data2[targets2 == cls]\n",
    "    cls_vecs2 = []\n",
    "    for imgs in cls_imgs2:\n",
    "        im = Image.fromarray(imgs)\n",
    "        features = iv.get_vec(im)\n",
    "        cls_vecs2.append(features)\n",
    "    vecs2.append(cls_vecs)"
   ]
  },
  {
   "cell_type": "code",
   "execution_count": null,
   "metadata": {
    "id": "1NXO4H0BCthW"
   },
   "outputs": [],
   "source": [
    "avg_vec2 = []\n",
    "for i in vecs:\n",
    "    arr = np.array(i)\n",
    "    mean = np.mean(arr, axis = 0)\n",
    "    avg_vec2.append(mean)\n",
    "avg_vec2 = np.array(avg_vec)"
   ]
  },
  {
   "cell_type": "markdown",
   "metadata": {},
   "source": [
    "#### Loading evaluation dataset for dataset2 and ultimatley gauging accuaracy of model 2 (f2)"
   ]
  },
  {
   "cell_type": "code",
   "execution_count": null,
   "metadata": {
    "colab": {
     "base_uri": "https://localhost:8080/"
    },
    "id": "eTvxxX18CthW",
    "outputId": "f9c6f90c-2497-454e-f003-2139adc24e9f"
   },
   "outputs": [
    {
     "name": "stdout",
     "output_type": "stream",
     "text": [
      "dict_keys(['data', 'targets'])"
     ]
    },
    {
     "name": "stderr",
     "output_type": "stream",
     "text": [
      "<ipython-input-56-99d76e2c38a1>:1: FutureWarning: You are using `torch.load` with `weights_only=False` (the current default value), which uses the default pickle module implicitly. It is possible to construct malicious pickle data which will execute arbitrary code during unpickling (See https://github.com/pytorch/pytorch/blob/main/SECURITY.md#untrusted-models for more details). In a future release, the default value for `weights_only` will be flipped to `True`. This limits the functions that could be executed during unpickling. Arbitrary objects will no longer be allowed to be loaded via this mode unless they are explicitly allowlisted by the user via `torch.serialization.add_safe_globals`. We recommend you start setting `weights_only=True` for any use case where you don't have full control of the loaded file. Please open an issue on GitHub for any issues related to this experimental feature.\n",
      "  testt2 = torch.load(r'/content/2_eval_data.tar.pth')"
     ]
    }
   ],
   "source": [
    "testt2 = torch.load(r'/content/2_eval_data.tar.pth')\n",
    "print(testt2.keys()) # it will print data and targets\n",
    "input2, y_t2 = testt2['data'], testt2['targets'] # both numpy.ndarray"
   ]
  },
  {
   "cell_type": "code",
   "execution_count": null,
   "metadata": {
    "colab": {
     "base_uri": "https://localhost:8080/"
    },
    "id": "MrcDi0pECthW",
    "outputId": "2fd23ecd-613d-4112-cca0-8e436698e3eb"
   },
   "outputs": [
    {
     "data": {
      "text/plain": [
       "(2500,)"
      ]
     },
     "execution_count": 57,
     "metadata": {},
     "output_type": "execute_result"
    }
   ],
   "source": [
    "y_t2.shape"
   ]
  },
  {
   "cell_type": "code",
   "execution_count": null,
   "metadata": {
    "colab": {
     "base_uri": "https://localhost:8080/"
    },
    "id": "Yk4eMR9LCthW",
    "outputId": "4d88d90c-0285-4fa4-f4b6-fd02ea024557"
   },
   "outputs": [
    {
     "data": {
      "text/plain": [
       "(2500,)"
      ]
     },
     "execution_count": 58,
     "metadata": {},
     "output_type": "execute_result"
    }
   ],
   "source": [
    "targets2.shape"
   ]
  },
  {
   "cell_type": "code",
   "execution_count": null,
   "metadata": {
    "id": "V3XnfIJbCthW"
   },
   "outputs": [],
   "source": [
    "train_yp = predicted_targets_orig(data2, avg_vec2)\n",
    "y_hat2 = predicted_targets_orig(input2, avg_vec2)"
   ]
  },
  {
   "cell_type": "code",
   "execution_count": null,
   "metadata": {
    "id": "FYa_nbTtCthX"
   },
   "outputs": [],
   "source": [
    "correct = 0\n",
    "for i in range(2500):\n",
    "    if targets2[i] == train_yp[i]:\n",
    "        correct+=1"
   ]
  },
  {
   "cell_type": "markdown",
   "metadata": {},
   "source": [
    "train accuracy was expected to be 1"
   ]
  },
  {
   "cell_type": "code",
   "execution_count": null,
   "metadata": {
    "colab": {
     "base_uri": "https://localhost:8080/"
    },
    "id": "RVpvYp3pCthX",
    "outputId": "1bcfc7fe-15b8-4db3-f631-6f86ab2af7ff"
   },
   "outputs": [
    {
     "data": {
      "text/plain": [
       "1.0"
      ]
     },
     "execution_count": 61,
     "metadata": {},
     "output_type": "execute_result"
    }
   ],
   "source": [
    "correct/2500"
   ]
  },
  {
   "cell_type": "code",
   "execution_count": null,
   "metadata": {
    "id": "j8C2w54SCthX"
   },
   "outputs": [],
   "source": [
    "corrett = 0\n",
    "for i in range(2500):\n",
    "    if y_t2[i] == y_hat2[i]:\n",
    "        corrett+=1"
   ]
  },
  {
   "cell_type": "markdown",
   "metadata": {},
   "source": [
    "accuracy on Evaluation dataset 2"
   ]
  },
  {
   "cell_type": "code",
   "execution_count": null,
   "metadata": {
    "colab": {
     "base_uri": "https://localhost:8080/"
    },
    "id": "3RB4zOEsCthX",
    "outputId": "fe7f7173-e8eb-405c-c1f9-34772a0e9392"
   },
   "outputs": [
    {
     "data": {
      "text/plain": [
       "0.9444"
      ]
     },
     "execution_count": 63,
     "metadata": {},
     "output_type": "execute_result"
    }
   ],
   "source": [
    "corrett/2500"
   ]
  },
  {
   "cell_type": "markdown",
   "metadata": {},
   "source": [
    "### The above cell demostrated 1 iteration for the training and evaluation loop the next part will show the implementation"
   ]
  },
  {
   "cell_type": "code",
   "execution_count": 28,
   "metadata": {
    "execution": {
     "iopub.execute_input": "2024-11-26T14:32:55.905463Z",
     "iopub.status.busy": "2024-11-26T14:32:55.904574Z",
     "iopub.status.idle": "2024-11-26T14:32:55.910344Z",
     "shell.execute_reply": "2024-11-26T14:32:55.909360Z",
     "shell.execute_reply.started": "2024-11-26T14:32:55.905427Z"
    },
    "id": "Kupk2vqrCthY",
    "trusted": true
   },
   "outputs": [],
   "source": [
    "trainpaths = [\n",
    "    \"/kaggle/input/train-data-part-1/1_train_data.tar.pth\",\n",
    "    \"/kaggle/input/train-data-part-1/3_train_data.tar.pth\",\n",
    "    \"/kaggle/input/train-data-part-1/4_train_data.tar.pth\",\n",
    "    \"/kaggle/input/train-data-part-1/5_train_data.tar.pth\",\n",
    "    \"/kaggle/input/train-data-part-1/6_train_data.tar.pth\",\n",
    "    \"/kaggle/input/train-data-part-1/7_train_data.tar.pth\",\n",
    "    \"/kaggle/input/train-data-part-1/8_train_data.tar.pth\",\n",
    "    \"/kaggle/input/train-data-part-1/9_train_data.tar.pth\",\n",
    "    \"/kaggle/input/train-data-part-1/10_train_data.tar.pth\"\n",
    "]\n",
    "\n",
    "testpaths = [\n",
    "    \"/kaggle/input/evaldata-part-1/1_eval_data.tar.pth\",\n",
    "    \"/kaggle/input/evaldata-part-1/3_eval_data.tar.pth\",\n",
    "    \"/kaggle/input/evaldata-part-1/4_eval_data.tar.pth\",\n",
    "    \"/kaggle/input/evaldata-part-1/5_eval_data.tar.pth\",\n",
    "    \"/kaggle/input/evaldata-part-1/6_eval_data.tar.pth\",\n",
    "    \"/kaggle/input/evaldata-part-1/7_eval_data.tar.pth\",\n",
    "    \"/kaggle/input/evaldata-part-1/8_eval_data.tar.pth\",\n",
    "    \"/kaggle/input/evaldata-part-1/9_eval_data.tar.pth\",\n",
    "    \"/kaggle/input/evaldata-part-1/10_eval_data.tar.pth\"\n",
    "]"
   ]
  },
  {
   "cell_type": "code",
   "execution_count": 53,
   "metadata": {
    "execution": {
     "iopub.execute_input": "2024-11-26T15:27:16.373043Z",
     "iopub.status.busy": "2024-11-26T15:27:16.372113Z",
     "iopub.status.idle": "2024-11-26T15:27:16.380312Z",
     "shell.execute_reply": "2024-11-26T15:27:16.379428Z",
     "shell.execute_reply.started": "2024-11-26T15:27:16.373005Z"
    },
    "id": "OjzUnnvWCthY",
    "trusted": true
   },
   "outputs": [],
   "source": [
    "def create_prototype(data, targets):\n",
    "    \"\"\"\n",
    "    Create class prototypes by averaging feature vectors for each class.\n",
    "    :param data: Input data, assumed to be NumPy array of images.\n",
    "    :param targets: Corresponding labels for the data.\n",
    "    :return: Array of averaged feature vectors (prototypes) for each class.\n",
    "    \"\"\"\n",
    "    vecs = []\n",
    "    unique_classes = np.unique(targets)\n",
    "\n",
    "    for cls in unique_classes:\n",
    "        cls_imgs = data[targets == cls]  # Select all images of the current class\n",
    "        cls_vecs = []\n",
    "        for imgs in cls_imgs:\n",
    "            im = Image.fromarray(imgs)  # Convert to PIL Image\n",
    "            features = iv.get_vec(im)  # Extract feature vector\n",
    "            cls_vecs.append(features.squeeze())  # Append feature vector\n",
    "\n",
    "        vecs.append(cls_vecs)  # Append all vectors for the current class\n",
    "\n",
    "    # Compute the mean vector for each class\n",
    "    avg_vec = []\n",
    "    for i in vecs:\n",
    "        arr = np.array(i)  # Convert list of vectors to NumPy array\n",
    "        mean = np.mean(arr, axis=0)  # Compute mean along the first axis\n",
    "        avg_vec.append(mean)\n",
    "\n",
    "    return np.array(avg_vec)  # Return prototypes as NumPy array\n",
    "\n",
    "def calculate_accuracy(y1, y2):\n",
    "    correct=0\n",
    "    for i in range(2500):\n",
    "        if y1[i]==y2[i]:\n",
    "            correct+=1\n",
    "    return correct/2500"
   ]
  },
  {
   "cell_type": "markdown",
   "metadata": {},
   "source": [
    "#### fss saves the protypes created during the loop from D1 to D10"
   ]
  },
  {
   "cell_type": "code",
   "execution_count": 30,
   "metadata": {
    "execution": {
     "iopub.execute_input": "2024-11-26T14:33:00.760539Z",
     "iopub.status.busy": "2024-11-26T14:33:00.759646Z",
     "iopub.status.idle": "2024-11-26T14:33:00.764410Z",
     "shell.execute_reply": "2024-11-26T14:33:00.763430Z",
     "shell.execute_reply.started": "2024-11-26T14:33:00.760503Z"
    },
    "id": "UXPDYVW6dHtZ",
    "trusted": true
   },
   "outputs": [],
   "source": [
    "fss= [avg_vec]"
   ]
  },
  {
   "cell_type": "markdown",
   "metadata": {},
   "source": [
    "#### The following loop implements Approach 1: Sequential Prototype Updating"
   ]
  },
  {
   "cell_type": "code",
   "execution_count": null,
   "metadata": {
    "colab": {
     "base_uri": "https://localhost:8080/"
    },
    "id": "U0SUZFuTCthY",
    "outputId": "fcd7bade-ecfe-4539-857c-8a8c0f59bf3d"
   },
   "outputs": [
    {
     "name": "stderr",
     "output_type": "stream",
     "text": [
      "<ipython-input-90-68381b42a5ed>:2: FutureWarning: You are using `torch.load` with `weights_only=False` (the current default value), which uses the default pickle module implicitly. It is possible to construct malicious pickle data which will execute arbitrary code during unpickling (See https://github.com/pytorch/pytorch/blob/main/SECURITY.md#untrusted-models for more details). In a future release, the default value for `weights_only` will be flipped to `True`. This limits the functions that could be executed during unpickling. Arbitrary objects will no longer be allowed to be loaded via this mode unless they are explicitly allowlisted by the user via `torch.serialization.add_safe_globals`. We recommend you start setting `weights_only=True` for any use case where you don't have full control of the loaded file. Please open an issue on GitHub for any issues related to this experimental feature.\n",
      "  t=torch.load(trainpaths[i])\n",
      "<ipython-input-90-68381b42a5ed>:6: FutureWarning: You are using `torch.load` with `weights_only=False` (the current default value), which uses the default pickle module implicitly. It is possible to construct malicious pickle data which will execute arbitrary code during unpickling (See https://github.com/pytorch/pytorch/blob/main/SECURITY.md#untrusted-models for more details). In a future release, the default value for `weights_only` will be flipped to `True`. This limits the functions that could be executed during unpickling. Arbitrary objects will no longer be allowed to be loaded via this mode unless they are explicitly allowlisted by the user via `torch.serialization.add_safe_globals`. We recommend you start setting `weights_only=True` for any use case where you don't have full control of the loaded file. Please open an issue on GitHub for any issues related to this experimental feature.\n",
      "  teval=torch.load(testpaths[i])"
     ]
    },
    {
     "name": "stdout",
     "output_type": "stream",
     "text": [
      "Test accuracy for data 2: 0.9204\n",
      "Test accuracy for data 3: 0.91\n",
      "Test accuracy for data 4: 0.9104\n",
      "Test accuracy for data 5: 0.894\n",
      "Test accuracy for data 6: 0.898\n",
      "Test accuracy for data 7: 0.8968\n",
      "Test accuracy for data 8: 0.8908\n",
      "Test accuracy for data 9: 0.8928\n",
      "Test accuracy for data 10: 0.8952"
     ]
    }
   ],
   "source": [
    "for i in range(len(trainpaths)):\n",
    "    t=torch.load(trainpaths[i])\n",
    "    data=t['data']\n",
    "    pseudo_labels = predicted_targets_orig(data, avg_vec)\n",
    "    avg_vec=create_prototype(data, pseudo_labels)\n",
    "    teval=torch.load(testpaths[i])\n",
    "    data_eval, targets_eval=teval['data'], teval['targets']\n",
    "    yhat_eval=predicted_targets_orig(data_eval, avg_vec)\n",
    "    acc=calculate_accuracy(targets_eval, yhat_eval)\n",
    "    fss.append(avg_vec)\n",
    "    print(f\"Test accuracy for data {i+2}: {acc}\")"
   ]
  },
  {
   "cell_type": "markdown",
   "metadata": {},
   "source": [
    "#### The next cells implement the Approach 2: Weighted Average Prototype Averaging"
   ]
  },
  {
   "cell_type": "code",
   "execution_count": 31,
   "metadata": {
    "execution": {
     "iopub.execute_input": "2024-11-26T14:33:10.249165Z",
     "iopub.status.busy": "2024-11-26T14:33:10.248437Z",
     "iopub.status.idle": "2024-11-26T14:33:10.253080Z",
     "shell.execute_reply": "2024-11-26T14:33:10.252104Z",
     "shell.execute_reply.started": "2024-11-26T14:33:10.249130Z"
    },
    "id": "4KEvpua_WSE-",
    "trusted": true
   },
   "outputs": [],
   "source": [
    "fs = [avg_vec]"
   ]
  },
  {
   "cell_type": "code",
   "execution_count": null,
   "metadata": {
    "colab": {
     "base_uri": "https://localhost:8080/"
    },
    "id": "0PXJBWx8WaSn",
    "outputId": "a22092ae-24be-49f3-d235-ed993dc2b900"
   },
   "outputs": [
    {
     "name": "stderr",
     "output_type": "stream",
     "text": [
      "<ipython-input-72-906f0a67748b>:2: FutureWarning: You are using `torch.load` with `weights_only=False` (the current default value), which uses the default pickle module implicitly. It is possible to construct malicious pickle data which will execute arbitrary code during unpickling (See https://github.com/pytorch/pytorch/blob/main/SECURITY.md#untrusted-models for more details). In a future release, the default value for `weights_only` will be flipped to `True`. This limits the functions that could be executed during unpickling. Arbitrary objects will no longer be allowed to be loaded via this mode unless they are explicitly allowlisted by the user via `torch.serialization.add_safe_globals`. We recommend you start setting `weights_only=True` for any use case where you don't have full control of the loaded file. Please open an issue on GitHub for any issues related to this experimental feature.\n",
      "  t=torch.load(trainpaths[i])\n",
      "<ipython-input-72-906f0a67748b>:7: FutureWarning: You are using `torch.load` with `weights_only=False` (the current default value), which uses the default pickle module implicitly. It is possible to construct malicious pickle data which will execute arbitrary code during unpickling (See https://github.com/pytorch/pytorch/blob/main/SECURITY.md#untrusted-models for more details). In a future release, the default value for `weights_only` will be flipped to `True`. This limits the functions that could be executed during unpickling. Arbitrary objects will no longer be allowed to be loaded via this mode unless they are explicitly allowlisted by the user via `torch.serialization.add_safe_globals`. We recommend you start setting `weights_only=True` for any use case where you don't have full control of the loaded file. Please open an issue on GitHub for any issues related to this experimental feature.\n",
      "  teval=torch.load(testpaths[i])"
     ]
    },
    {
     "name": "stdout",
     "output_type": "stream",
     "text": [
      "Test accuracy for 0 percent of f1 in f2: 0.9204\n",
      "Test accuracy for 10 percent of f1 in f2: 0.9216\n",
      "Test accuracy for 20 percent of f1 in f2: 0.9256\n",
      "Test accuracy for 30 percent of f1 in f2: 0.9276\n",
      "Test accuracy for 40 percent of f1 in f2: 0.9296\n",
      "Test accuracy for 50 percent of f1 in f2: 0.934\n",
      "Test accuracy for 60 percent of f1 in f2: 0.9364\n",
      "Test accuracy for 70 percent of f1 in f2: 0.9404\n",
      "Test accuracy for 80 percent of f1 in f2: 0.9412\n",
      "Test accuracy for 90 percent of f1 in f2: 0.9424\n",
      "Test accuracy for data 2: 0.9424\n",
      "Test accuracy for 0 percent of f2 in f3: 0.9248\n",
      "Test accuracy for 10 percent of f2 in f3: 0.9268\n",
      "Test accuracy for 20 percent of f2 in f3: 0.9292\n",
      "Test accuracy for 30 percent of f2 in f3: 0.9316\n",
      "Test accuracy for 40 percent of f2 in f3: 0.9324\n",
      "Test accuracy for 50 percent of f2 in f3: 0.934\n",
      "Test accuracy for 60 percent of f2 in f3: 0.9356\n",
      "Test accuracy for 70 percent of f2 in f3: 0.9376\n",
      "Test accuracy for 80 percent of f2 in f3: 0.9388\n",
      "Test accuracy for 90 percent of f2 in f3: 0.9408\n",
      "Test accuracy for data 3: 0.9408\n",
      "Test accuracy for 0 percent of f3 in f4: 0.9324\n",
      "Test accuracy for 10 percent of f3 in f4: 0.934\n",
      "Test accuracy for 20 percent of f3 in f4: 0.9356\n",
      "Test accuracy for 30 percent of f3 in f4: 0.9376\n",
      "Test accuracy for 40 percent of f3 in f4: 0.9396\n",
      "Test accuracy for 50 percent of f3 in f4: 0.9408\n",
      "Test accuracy for 60 percent of f3 in f4: 0.9404\n",
      "Test accuracy for 70 percent of f3 in f4: 0.9424\n",
      "Test accuracy for 80 percent of f3 in f4: 0.9428\n",
      "Test accuracy for 90 percent of f3 in f4: 0.9436\n",
      "Test accuracy for data 4: 0.9436\n",
      "Test accuracy for 0 percent of f4 in f5: 0.92\n",
      "Test accuracy for 10 percent of f4 in f5: 0.9232\n",
      "Test accuracy for 20 percent of f4 in f5: 0.9248\n",
      "Test accuracy for 30 percent of f4 in f5: 0.9276\n",
      "Test accuracy for 40 percent of f4 in f5: 0.9288\n",
      "Test accuracy for 50 percent of f4 in f5: 0.9304\n",
      "Test accuracy for 60 percent of f4 in f5: 0.9336\n",
      "Test accuracy for 70 percent of f4 in f5: 0.9336\n",
      "Test accuracy for 80 percent of f4 in f5: 0.936\n",
      "Test accuracy for 90 percent of f4 in f5: 0.9384\n",
      "Test accuracy for data 5: 0.9384\n",
      "Test accuracy for 0 percent of f5 in f6: 0.9244\n",
      "Test accuracy for 10 percent of f5 in f6: 0.9252\n",
      "Test accuracy for 20 percent of f5 in f6: 0.9272\n",
      "Test accuracy for 30 percent of f5 in f6: 0.9292\n",
      "Test accuracy for 40 percent of f5 in f6: 0.9316\n",
      "Test accuracy for 50 percent of f5 in f6: 0.934\n",
      "Test accuracy for 60 percent of f5 in f6: 0.9368\n",
      "Test accuracy for 70 percent of f5 in f6: 0.9384\n",
      "Test accuracy for 80 percent of f5 in f6: 0.9404\n",
      "Test accuracy for 90 percent of f5 in f6: 0.9412\n",
      "Test accuracy for data 6: 0.9412\n",
      "Test accuracy for 0 percent of f6 in f7: 0.9248\n",
      "Test accuracy for 10 percent of f6 in f7: 0.9264\n",
      "Test accuracy for 20 percent of f6 in f7: 0.9284\n",
      "Test accuracy for 30 percent of f6 in f7: 0.93\n",
      "Test accuracy for 40 percent of f6 in f7: 0.9324\n",
      "Test accuracy for 50 percent of f6 in f7: 0.934\n",
      "Test accuracy for 60 percent of f6 in f7: 0.9348\n",
      "Test accuracy for 70 percent of f6 in f7: 0.9356\n",
      "Test accuracy for 80 percent of f6 in f7: 0.9356\n",
      "Test accuracy for 90 percent of f6 in f7: 0.9372\n",
      "Test accuracy for data 7: 0.9372\n",
      "Test accuracy for 0 percent of f7 in f8: 0.9184\n",
      "Test accuracy for 10 percent of f7 in f8: 0.9188\n",
      "Test accuracy for 20 percent of f7 in f8: 0.9196\n",
      "Test accuracy for 30 percent of f7 in f8: 0.9208\n",
      "Test accuracy for 40 percent of f7 in f8: 0.9228\n",
      "Test accuracy for 50 percent of f7 in f8: 0.926\n",
      "Test accuracy for 60 percent of f7 in f8: 0.9296\n",
      "Test accuracy for 70 percent of f7 in f8: 0.9296\n",
      "Test accuracy for 80 percent of f7 in f8: 0.9308\n",
      "Test accuracy for 90 percent of f7 in f8: 0.9336\n",
      "Test accuracy for data 8: 0.9336\n",
      "Test accuracy for 0 percent of f8 in f9: 0.9176\n",
      "Test accuracy for 10 percent of f8 in f9: 0.9192\n",
      "Test accuracy for 20 percent of f8 in f9: 0.9208\n",
      "Test accuracy for 30 percent of f8 in f9: 0.922\n",
      "Test accuracy for 40 percent of f8 in f9: 0.9236\n",
      "Test accuracy for 50 percent of f8 in f9: 0.9248\n",
      "Test accuracy for 60 percent of f8 in f9: 0.9268\n",
      "Test accuracy for 70 percent of f8 in f9: 0.9284\n",
      "Test accuracy for 80 percent of f8 in f9: 0.9312\n",
      "Test accuracy for 90 percent of f8 in f9: 0.9328\n",
      "Test accuracy for data 9: 0.9328\n",
      "Test accuracy for 0 percent of f9 in f10: 0.9196\n",
      "Test accuracy for 10 percent of f9 in f10: 0.922\n",
      "Test accuracy for 20 percent of f9 in f10: 0.9248\n",
      "Test accuracy for 30 percent of f9 in f10: 0.9268\n",
      "Test accuracy for 40 percent of f9 in f10: 0.9296\n",
      "Test accuracy for 50 percent of f9 in f10: 0.9312\n",
      "Test accuracy for 60 percent of f9 in f10: 0.9328\n",
      "Test accuracy for 70 percent of f9 in f10: 0.9344\n",
      "Test accuracy for 80 percent of f9 in f10: 0.9356\n",
      "Test accuracy for 90 percent of f9 in f10: 0.9368\n",
      "Test accuracy for data 10: 0.9368"
     ]
    }
   ],
   "source": [
    "for i in range(len(trainpaths)):\n",
    "    t=torch.load(trainpaths[i])\n",
    "    data=t['data']\n",
    "    avg_vec=fs[i]\n",
    "    pseudo_labels = predicted_targets_orig(data, avg_vec)\n",
    "    avg_vec_n=create_prototype(data, pseudo_labels)\n",
    "    teval=torch.load(testpaths[i])\n",
    "    data_eval, targets_eval=teval['data'], teval['targets']\n",
    "    accc = []\n",
    "    ff = []\n",
    "    for j in range(10):\n",
    "      step = 0.1\n",
    "      avg_n = (avg_vec*(j*step)) + (avg_vec_n*((1-j*step)))\n",
    "      yhat_eval=predicted_targets_orig(data_eval, avg_n)\n",
    "      acc=calculate_accuracy(targets_eval, yhat_eval)\n",
    "      print(f\"Test accuracy for {j*10} percent of f{i+1} in f{i+2}: {acc}\")\n",
    "      accc.append(acc)\n",
    "      ff.append(avg_n)\n",
    "    score = max(accc)\n",
    "    fs.append(ff[accc.index(score)])\n",
    "    print(f\"Test accuracy for data {i+2}: {score}\")"
   ]
  },
  {
   "cell_type": "markdown",
   "metadata": {
    "id": "H66tMS7-g69f"
   },
   "source": [
    "test loop for each data set with each model by both approach"
   ]
  },
  {
   "cell_type": "code",
   "execution_count": 39,
   "metadata": {
    "execution": {
     "iopub.execute_input": "2024-11-26T14:41:34.138943Z",
     "iopub.status.busy": "2024-11-26T14:41:34.138490Z",
     "iopub.status.idle": "2024-11-26T14:41:34.143635Z",
     "shell.execute_reply": "2024-11-26T14:41:34.142677Z",
     "shell.execute_reply.started": "2024-11-26T14:41:34.138893Z"
    },
    "id": "UAkq0TDGh2Yv",
    "trusted": true
   },
   "outputs": [],
   "source": [
    "testpath1 = [\n",
    "    \"/kaggle/input/evaldata-part-1/1_eval_data.tar.pth\",\n",
    "    \"/kaggle/input/evaldata-part-1/2_eval_data.tar.pth\",\n",
    "    \"/kaggle/input/evaldata-part-1/3_eval_data.tar.pth\",\n",
    "    \"/kaggle/input/evaldata-part-1/4_eval_data.tar.pth\",\n",
    "    \"/kaggle/input/evaldata-part-1/5_eval_data.tar.pth\",\n",
    "    \"/kaggle/input/evaldata-part-1/6_eval_data.tar.pth\",\n",
    "    \"/kaggle/input/evaldata-part-1/7_eval_data.tar.pth\",\n",
    "    \"/kaggle/input/evaldata-part-1/8_eval_data.tar.pth\",\n",
    "    \"/kaggle/input/evaldata-part-1/9_eval_data.tar.pth\",\n",
    "    \"/kaggle/input/evaldata-part-1/10_eval_data.tar.pth\"\n",
    "]"
   ]
  },
  {
   "cell_type": "code",
   "execution_count": null,
   "metadata": {
    "colab": {
     "base_uri": "https://localhost:8080/"
    },
    "id": "eOT2lia_iRlp",
    "outputId": "59c78e47-3b69-4d53-8d40-179cb73bb9f3"
   },
   "outputs": [
    {
     "data": {
      "text/plain": [
       "10"
      ]
     },
     "execution_count": 91,
     "metadata": {},
     "output_type": "execute_result"
    }
   ],
   "source": [
    "len(fss)"
   ]
  },
  {
   "cell_type": "code",
   "execution_count": null,
   "metadata": {
    "colab": {
     "base_uri": "https://localhost:8080/"
    },
    "id": "CQ0k8p_MiUBb",
    "outputId": "fef6384f-b882-4bfc-a32d-e439d32d46e9"
   },
   "outputs": [
    {
     "data": {
      "text/plain": [
       "10"
      ]
     },
     "execution_count": 92,
     "metadata": {},
     "output_type": "execute_result"
    }
   ],
   "source": [
    "len(testpath1)"
   ]
  },
  {
   "cell_type": "code",
   "execution_count": null,
   "metadata": {
    "colab": {
     "base_uri": "https://localhost:8080/"
    },
    "id": "tGeZiIBzykoa",
    "outputId": "ad00787f-ec18-4646-cc23-4866cba4a619"
   },
   "outputs": [
    {
     "data": {
      "text/plain": [
       "10"
      ]
     },
     "execution_count": 93,
     "metadata": {},
     "output_type": "execute_result"
    }
   ],
   "source": [
    "len(fs)"
   ]
  },
  {
   "cell_type": "code",
   "execution_count": null,
   "metadata": {
    "id": "W0FeTfj4yxIh"
   },
   "outputs": [],
   "source": [
    "for i in range(len(fss)):\n",
    "  np.save(f'feature {i+1} a2.npy', fss[i])"
   ]
  },
  {
   "cell_type": "code",
   "execution_count": null,
   "metadata": {
    "colab": {
     "base_uri": "https://localhost:8080/"
    },
    "id": "vvUS1LN8XoaQ",
    "outputId": "8de3de52-c869-4e95-a244-92f316d2f750"
   },
   "outputs": [
    {
     "name": "stderr",
     "output_type": "stream",
     "text": [
      "<ipython-input-96-033e5e73ca7d>:4: FutureWarning: You are using `torch.load` with `weights_only=False` (the current default value), which uses the default pickle module implicitly. It is possible to construct malicious pickle data which will execute arbitrary code during unpickling (See https://github.com/pytorch/pytorch/blob/main/SECURITY.md#untrusted-models for more details). In a future release, the default value for `weights_only` will be flipped to `True`. This limits the functions that could be executed during unpickling. Arbitrary objects will no longer be allowed to be loaded via this mode unless they are explicitly allowlisted by the user via `torch.serialization.add_safe_globals`. We recommend you start setting `weights_only=True` for any use case where you don't have full control of the loaded file. Please open an issue on GitHub for any issues related to this experimental feature.\n",
      "  teval=torch.load(testpath1[i])"
     ]
    },
    {
     "name": "stdout",
     "output_type": "stream",
     "text": [
      "Test accuracy for data 1 and model 1: 0.9416\n",
      "Test accuracy for data 1 and model 2: 0.924\n",
      "Test accuracy for data 1 and model 3: 0.906\n",
      "Test accuracy for data 1 and model 4: 0.9\n",
      "Test accuracy for data 1 and model 5: 0.8928\n",
      "Test accuracy for data 1 and model 6: 0.8924\n",
      "Test accuracy for data 1 and model 7: 0.8912\n",
      "Test accuracy for data 1 and model 8: 0.8908\n",
      "Test accuracy for data 1 and model 9: 0.8896\n",
      "Test accuracy for data 1 and model 10: 0.8836\n",
      "Test accuracy for data 2 and model 1: 0.9444\n",
      "Test accuracy for data 2 and model 2: 0.9204\n",
      "Test accuracy for data 2 and model 3: 0.902\n",
      "Test accuracy for data 2 and model 4: 0.902\n",
      "Test accuracy for data 2 and model 5: 0.8948\n",
      "Test accuracy for data 2 and model 6: 0.8952\n",
      "Test accuracy for data 2 and model 7: 0.8932\n",
      "Test accuracy for data 2 and model 8: 0.8908\n",
      "Test accuracy for data 2 and model 9: 0.8896\n",
      "Test accuracy for data 2 and model 10: 0.8852\n",
      "Test accuracy for data 3 and model 1: 0.9432\n",
      "Test accuracy for data 3 and model 2: 0.9252\n",
      "Test accuracy for data 3 and model 3: 0.91\n",
      "Test accuracy for data 3 and model 4: 0.9056\n",
      "Test accuracy for data 3 and model 5: 0.8992\n",
      "Test accuracy for data 3 and model 6: 0.8996\n",
      "Test accuracy for data 3 and model 7: 0.8972\n",
      "Test accuracy for data 3 and model 8: 0.894\n",
      "Test accuracy for data 3 and model 9: 0.8968\n",
      "Test accuracy for data 3 and model 10: 0.8896\n",
      "Test accuracy for data 4 and model 1: 0.9452\n",
      "Test accuracy for data 4 and model 2: 0.9288\n",
      "Test accuracy for data 4 and model 3: 0.9124\n",
      "Test accuracy for data 4 and model 4: 0.9104\n",
      "Test accuracy for data 4 and model 5: 0.8996\n",
      "Test accuracy for data 4 and model 6: 0.8996\n",
      "Test accuracy for data 4 and model 7: 0.9\n",
      "Test accuracy for data 4 and model 8: 0.902\n",
      "Test accuracy for data 4 and model 9: 0.894\n",
      "Test accuracy for data 4 and model 10: 0.8912\n",
      "Test accuracy for data 5 and model 1: 0.9476\n",
      "Test accuracy for data 5 and model 2: 0.9272\n",
      "Test accuracy for data 5 and model 3: 0.904\n",
      "Test accuracy for data 5 and model 4: 0.9028\n",
      "Test accuracy for data 5 and model 5: 0.894\n",
      "Test accuracy for data 5 and model 6: 0.8936\n",
      "Test accuracy for data 5 and model 7: 0.894\n",
      "Test accuracy for data 5 and model 8: 0.892\n",
      "Test accuracy for data 5 and model 9: 0.8872\n",
      "Test accuracy for data 5 and model 10: 0.8848\n",
      "Test accuracy for data 6 and model 1: 0.952\n",
      "Test accuracy for data 6 and model 2: 0.9304\n",
      "Test accuracy for data 6 and model 3: 0.9136\n",
      "Test accuracy for data 6 and model 4: 0.9084\n",
      "Test accuracy for data 6 and model 5: 0.898\n",
      "Test accuracy for data 6 and model 6: 0.898\n",
      "Test accuracy for data 6 and model 7: 0.8968\n",
      "Test accuracy for data 6 and model 8: 0.8968\n",
      "Test accuracy for data 6 and model 9: 0.896\n",
      "Test accuracy for data 6 and model 10: 0.892\n",
      "Test accuracy for data 7 and model 1: 0.946\n",
      "Test accuracy for data 7 and model 2: 0.9312\n",
      "Test accuracy for data 7 and model 3: 0.9108\n",
      "Test accuracy for data 7 and model 4: 0.9084\n",
      "Test accuracy for data 7 and model 5: 0.9\n",
      "Test accuracy for data 7 and model 6: 0.8992\n",
      "Test accuracy for data 7 and model 7: 0.8968\n",
      "Test accuracy for data 7 and model 8: 0.8968\n",
      "Test accuracy for data 7 and model 9: 0.8968\n",
      "Test accuracy for data 7 and model 10: 0.8928\n",
      "Test accuracy for data 8 and model 1: 0.9472\n",
      "Test accuracy for data 8 and model 2: 0.9252\n",
      "Test accuracy for data 8 and model 3: 0.9072\n",
      "Test accuracy for data 8 and model 4: 0.9032\n",
      "Test accuracy for data 8 and model 5: 0.8952\n",
      "Test accuracy for data 8 and model 6: 0.8932\n",
      "Test accuracy for data 8 and model 7: 0.8924\n",
      "Test accuracy for data 8 and model 8: 0.8908\n",
      "Test accuracy for data 8 and model 9: 0.89\n",
      "Test accuracy for data 8 and model 10: 0.89\n",
      "Test accuracy for data 9 and model 1: 0.9452\n",
      "Test accuracy for data 9 and model 2: 0.9236\n",
      "Test accuracy for data 9 and model 3: 0.9052\n",
      "Test accuracy for data 9 and model 4: 0.9048\n",
      "Test accuracy for data 9 and model 5: 0.898\n",
      "Test accuracy for data 9 and model 6: 0.8976\n",
      "Test accuracy for data 9 and model 7: 0.8952\n",
      "Test accuracy for data 9 and model 8: 0.8976\n",
      "Test accuracy for data 9 and model 9: 0.8928\n",
      "Test accuracy for data 9 and model 10: 0.8876\n",
      "Test accuracy for data 10 and model 1: 0.954\n",
      "Test accuracy for data 10 and model 2: 0.9316\n",
      "Test accuracy for data 10 and model 3: 0.912\n",
      "Test accuracy for data 10 and model 4: 0.9088\n",
      "Test accuracy for data 10 and model 5: 0.9032\n",
      "Test accuracy for data 10 and model 6: 0.9016\n",
      "Test accuracy for data 10 and model 7: 0.9\n",
      "Test accuracy for data 10 and model 8: 0.9\n",
      "Test accuracy for data 10 and model 9: 0.8992\n",
      "Test accuracy for data 10 and model 10: 0.8952"
     ]
    }
   ],
   "source": [
    "for i in range(len(testpath1)):\n",
    "  for k in range(len(fss)):\n",
    "    avg = fss[k]\n",
    "    teval=torch.load(testpath1[i])\n",
    "    data_eval, targets_eval=teval['data'], teval['targets']\n",
    "    yeval = predicted_targets_orig(data_eval, avg)\n",
    "    acc = calculate_accuracy(targets_eval, yeval)\n",
    "    print(f\"Test accuracy for data {i+1} and model {k+1}: {acc}\")"
   ]
  },
  {
   "cell_type": "code",
   "execution_count": null,
   "metadata": {
    "colab": {
     "base_uri": "https://localhost:8080/"
    },
    "id": "osblTw_QinYe",
    "outputId": "a4b84c6d-fac0-48b8-cdb0-baafba41128c"
   },
   "outputs": [
    {
     "name": "stderr",
     "output_type": "stream",
     "text": [
      "<ipython-input-97-54e3b47c58a7>:4: FutureWarning: You are using `torch.load` with `weights_only=False` (the current default value), which uses the default pickle module implicitly. It is possible to construct malicious pickle data which will execute arbitrary code during unpickling (See https://github.com/pytorch/pytorch/blob/main/SECURITY.md#untrusted-models for more details). In a future release, the default value for `weights_only` will be flipped to `True`. This limits the functions that could be executed during unpickling. Arbitrary objects will no longer be allowed to be loaded via this mode unless they are explicitly allowlisted by the user via `torch.serialization.add_safe_globals`. We recommend you start setting `weights_only=True` for any use case where you don't have full control of the loaded file. Please open an issue on GitHub for any issues related to this experimental feature.\n",
      "  teval=torch.load(testpath1[i])"
     ]
    },
    {
     "name": "stdout",
     "output_type": "stream",
     "text": [
      "Test accuracy for data 1 and model 1: 0.9416\n",
      "Test accuracy for data 1 and model 2: 0.9404\n",
      "Test accuracy for data 1 and model 3: 0.938\n",
      "Test accuracy for data 1 and model 4: 0.9376\n",
      "Test accuracy for data 1 and model 5: 0.9364\n",
      "Test accuracy for data 1 and model 6: 0.9336\n",
      "Test accuracy for data 1 and model 7: 0.9316\n",
      "Test accuracy for data 1 and model 8: 0.9292\n",
      "Test accuracy for data 1 and model 9: 0.928\n",
      "Test accuracy for data 1 and model 10: 0.9264\n",
      "Test accuracy for data 2 and model 1: 0.9444\n",
      "Test accuracy for data 2 and model 2: 0.9424\n",
      "Test accuracy for data 2 and model 3: 0.9412\n",
      "Test accuracy for data 2 and model 4: 0.9404\n",
      "Test accuracy for data 2 and model 5: 0.9384\n",
      "Test accuracy for data 2 and model 6: 0.936\n",
      "Test accuracy for data 2 and model 7: 0.9328\n",
      "Test accuracy for data 2 and model 8: 0.9308\n",
      "Test accuracy for data 2 and model 9: 0.9276\n",
      "Test accuracy for data 2 and model 10: 0.926\n",
      "Test accuracy for data 3 and model 1: 0.9432\n",
      "Test accuracy for data 3 and model 2: 0.9416\n",
      "Test accuracy for data 3 and model 3: 0.9408\n",
      "Test accuracy for data 3 and model 4: 0.9392\n",
      "Test accuracy for data 3 and model 5: 0.938\n",
      "Test accuracy for data 3 and model 6: 0.936\n",
      "Test accuracy for data 3 and model 7: 0.9352\n",
      "Test accuracy for data 3 and model 8: 0.9336\n",
      "Test accuracy for data 3 and model 9: 0.9324\n",
      "Test accuracy for data 3 and model 10: 0.932\n",
      "Test accuracy for data 4 and model 1: 0.9452\n",
      "Test accuracy for data 4 and model 2: 0.9432\n",
      "Test accuracy for data 4 and model 3: 0.9428\n",
      "Test accuracy for data 4 and model 4: 0.9436\n",
      "Test accuracy for data 4 and model 5: 0.9436\n",
      "Test accuracy for data 4 and model 6: 0.9416\n",
      "Test accuracy for data 4 and model 7: 0.94\n",
      "Test accuracy for data 4 and model 8: 0.9384\n",
      "Test accuracy for data 4 and model 9: 0.9368\n",
      "Test accuracy for data 4 and model 10: 0.936\n",
      "Test accuracy for data 5 and model 1: 0.9476\n",
      "Test accuracy for data 5 and model 2: 0.9432\n",
      "Test accuracy for data 5 and model 3: 0.9412\n",
      "Test accuracy for data 5 and model 4: 0.9388\n",
      "Test accuracy for data 5 and model 5: 0.9384\n",
      "Test accuracy for data 5 and model 6: 0.9364\n",
      "Test accuracy for data 5 and model 7: 0.9348\n",
      "Test accuracy for data 5 and model 8: 0.9336\n",
      "Test accuracy for data 5 and model 9: 0.9324\n",
      "Test accuracy for data 5 and model 10: 0.9308\n",
      "Test accuracy for data 6 and model 1: 0.952\n",
      "Test accuracy for data 6 and model 2: 0.9496\n",
      "Test accuracy for data 6 and model 3: 0.9484\n",
      "Test accuracy for data 6 and model 4: 0.946\n",
      "Test accuracy for data 6 and model 5: 0.944\n",
      "Test accuracy for data 6 and model 6: 0.9412\n",
      "Test accuracy for data 6 and model 7: 0.94\n",
      "Test accuracy for data 6 and model 8: 0.9392\n",
      "Test accuracy for data 6 and model 9: 0.9368\n",
      "Test accuracy for data 6 and model 10: 0.9352\n",
      "Test accuracy for data 7 and model 1: 0.946\n",
      "Test accuracy for data 7 and model 2: 0.944\n",
      "Test accuracy for data 7 and model 3: 0.9412\n",
      "Test accuracy for data 7 and model 4: 0.9408\n",
      "Test accuracy for data 7 and model 5: 0.9396\n",
      "Test accuracy for data 7 and model 6: 0.9384\n",
      "Test accuracy for data 7 and model 7: 0.9372\n",
      "Test accuracy for data 7 and model 8: 0.936\n",
      "Test accuracy for data 7 and model 9: 0.9364\n",
      "Test accuracy for data 7 and model 10: 0.936\n",
      "Test accuracy for data 8 and model 1: 0.9472"
     ]
    }
   ],
   "source": [
    "for i in range(len(testpath1)):\n",
    "  for k in range(len(fss)):\n",
    "    avg = fs[k]\n",
    "    teval=torch.load(testpath1[i])\n",
    "    data_eval, targets_eval=teval['data'], teval['targets']\n",
    "    yeval = predicted_targets_orig(data_eval, avg)\n",
    "    acc = calculate_accuracy(targets_eval, yeval)\n",
    "    print(f\"Test accuracy for data {i+1} and model {k+1}: {acc}\")"
   ]
  },
  {
   "cell_type": "code",
   "execution_count": null,
   "metadata": {
    "trusted": true
   },
   "outputs": [],
   "source": [
    "/kaggle/input/lxp-efficient/pytorch/default/1/a2/feature 1 a1.npy"
   ]
  },
  {
   "cell_type": "code",
   "execution_count": 33,
   "metadata": {
    "execution": {
     "iopub.execute_input": "2024-11-26T14:37:19.030180Z",
     "iopub.status.busy": "2024-11-26T14:37:19.029797Z",
     "iopub.status.idle": "2024-11-26T14:37:19.034169Z",
     "shell.execute_reply": "2024-11-26T14:37:19.033239Z",
     "shell.execute_reply.started": "2024-11-26T14:37:19.030132Z"
    },
    "trusted": true
   },
   "outputs": [],
   "source": [
    "fs = []"
   ]
  },
  {
   "cell_type": "code",
   "execution_count": 35,
   "metadata": {
    "execution": {
     "iopub.execute_input": "2024-11-26T14:37:56.120852Z",
     "iopub.status.busy": "2024-11-26T14:37:56.120099Z",
     "iopub.status.idle": "2024-11-26T14:37:56.156933Z",
     "shell.execute_reply": "2024-11-26T14:37:56.156309Z",
     "shell.execute_reply.started": "2024-11-26T14:37:56.120797Z"
    },
    "trusted": true
   },
   "outputs": [],
   "source": [
    "for i in range(10):\n",
    "    x = np.load(f'/kaggle/input/lxp-efficient/pytorch/default/1/a2/feature {i+1} a1.npy')\n",
    "    fs.append(x)"
   ]
  },
  {
   "cell_type": "code",
   "execution_count": 36,
   "metadata": {
    "execution": {
     "iopub.execute_input": "2024-11-26T14:38:10.101990Z",
     "iopub.status.busy": "2024-11-26T14:38:10.101139Z",
     "iopub.status.idle": "2024-11-26T14:38:10.108708Z",
     "shell.execute_reply": "2024-11-26T14:38:10.107857Z",
     "shell.execute_reply.started": "2024-11-26T14:38:10.101940Z"
    },
    "trusted": true
   },
   "outputs": [
    {
     "data": {
      "text/plain": [
       "10"
      ]
     },
     "execution_count": 36,
     "metadata": {},
     "output_type": "execute_result"
    }
   ],
   "source": [
    "len(fs)"
   ]
  },
  {
   "cell_type": "code",
   "execution_count": 37,
   "metadata": {
    "execution": {
     "iopub.execute_input": "2024-11-26T14:38:18.683730Z",
     "iopub.status.busy": "2024-11-26T14:38:18.683380Z",
     "iopub.status.idle": "2024-11-26T14:38:18.690361Z",
     "shell.execute_reply": "2024-11-26T14:38:18.689510Z",
     "shell.execute_reply.started": "2024-11-26T14:38:18.683704Z"
    },
    "trusted": true
   },
   "outputs": [
    {
     "data": {
      "text/plain": [
       "array([[-0.68335456,  0.01412783,  0.05197821, ...,  0.25796676,\n",
       "         0.20175768,  0.09471242],\n",
       "       [-0.20824409, -0.68425703,  0.5943371 , ...,  0.3617585 ,\n",
       "         0.09910443, -0.28716668],\n",
       "       [-0.14560437, -0.52683073, -0.02486167, ...,  0.23931216,\n",
       "         0.14165007, -0.09032436],\n",
       "       ...,\n",
       "       [-0.12918186, -0.5616755 , -0.09023402, ...,  0.1106096 ,\n",
       "         0.07101265, -0.39145228],\n",
       "       [-0.4585239 , -0.34915015,  0.12501319, ...,  0.34398907,\n",
       "         0.15898933,  0.08365443],\n",
       "       [-0.6697486 , -0.5951926 ,  0.84078884, ...,  0.36414367,\n",
       "        -0.50713444,  0.2584515 ]], dtype=float32)"
      ]
     },
     "execution_count": 37,
     "metadata": {},
     "output_type": "execute_result"
    }
   ],
   "source": [
    "fs[0]"
   ]
  },
  {
   "cell_type": "code",
   "execution_count": 43,
   "metadata": {
    "execution": {
     "iopub.execute_input": "2024-11-26T14:51:46.456857Z",
     "iopub.status.busy": "2024-11-26T14:51:46.456157Z",
     "iopub.status.idle": "2024-11-26T15:03:50.554855Z",
     "shell.execute_reply": "2024-11-26T15:03:50.553868Z",
     "shell.execute_reply.started": "2024-11-26T14:51:46.456799Z"
    },
    "trusted": true
   },
   "outputs": [
    {
     "name": "stderr",
     "output_type": "stream",
     "text": [
      "/tmp/ipykernel_30/3284037318.py:6: FutureWarning: You are using `torch.load` with `weights_only=False` (the current default value), which uses the default pickle module implicitly. It is possible to construct malicious pickle data which will execute arbitrary code during unpickling (See https://github.com/pytorch/pytorch/blob/main/SECURITY.md#untrusted-models for more details). In a future release, the default value for `weights_only` will be flipped to `True`. This limits the functions that could be executed during unpickling. Arbitrary objects will no longer be allowed to be loaded via this mode unless they are explicitly allowlisted by the user via `torch.serialization.add_safe_globals`. We recommend you start setting `weights_only=True` for any use case where you don't have full control of the loaded file. Please open an issue on GitHub for any issues related to this experimental feature.\n",
      "  teval=torch.load(testpath1[i])\n"
     ]
    },
    {
     "name": "stdout",
     "output_type": "stream",
     "text": [
      "Test accuracy for data 8 and model 9: 0.9312\n",
      "Test accuracy for data 8 and model 10: 0.9292\n",
      "Test accuracy for data 9 and model 1: 0.9452\n",
      "Test accuracy for data 9 and model 2: 0.9444\n",
      "Test accuracy for data 9 and model 3: 0.9428\n",
      "Test accuracy for data 9 and model 4: 0.9416\n",
      "Test accuracy for data 9 and model 5: 0.9388\n",
      "Test accuracy for data 9 and model 6: 0.9376\n",
      "Test accuracy for data 9 and model 7: 0.936\n",
      "Test accuracy for data 9 and model 8: 0.934\n",
      "Test accuracy for data 9 and model 9: 0.9328\n",
      "Test accuracy for data 9 and model 10: 0.93\n",
      "Test accuracy for data 10 and model 1: 0.954\n",
      "Test accuracy for data 10 and model 2: 0.9532\n",
      "Test accuracy for data 10 and model 3: 0.9504\n",
      "Test accuracy for data 10 and model 4: 0.9484\n",
      "Test accuracy for data 10 and model 5: 0.9464\n",
      "Test accuracy for data 10 and model 6: 0.9444\n",
      "Test accuracy for data 10 and model 7: 0.942\n",
      "Test accuracy for data 10 and model 8: 0.9404\n",
      "Test accuracy for data 10 and model 9: 0.9384\n",
      "Test accuracy for data 10 and model 10: 0.9368\n"
     ]
    }
   ],
   "source": [
    "for i in range(7,len(testpath1)):\n",
    "  for k in range(10):\n",
    "    if i == 7 and k <=7: \n",
    "        continue\n",
    "    avg = fs[k]\n",
    "    teval=torch.load(testpath1[i])\n",
    "    data_eval, targets_eval=teval['data'], teval['targets']\n",
    "    yeval = predicted_targets_orig(data_eval, avg)\n",
    "    acc = calculate_accuracy(targets_eval, yeval)\n",
    "    print(f\"Test accuracy for data {i+1} and model {k+1}: {acc}\")"
   ]
  }
 ],
 "metadata": {
  "accelerator": "GPU",
  "colab": {
   "gpuType": "T4",
   "provenance": []
  },
  "kaggle": {
   "accelerator": "gpu",
   "dataSources": [
    {
     "datasetId": 6170083,
     "sourceId": 10020296,
     "sourceType": "datasetVersion"
    },
    {
     "datasetId": 6170088,
     "sourceId": 10020302,
     "sourceType": "datasetVersion"
    },
    {
     "datasetId": 6170097,
     "sourceId": 10020314,
     "sourceType": "datasetVersion"
    },
    {
     "datasetId": 6170105,
     "sourceId": 10020324,
     "sourceType": "datasetVersion"
    },
    {
     "sourceId": 209753276,
     "sourceType": "kernelVersion"
    },
    {
     "modelId": 175283,
     "modelInstanceId": 152842,
     "sourceId": 179396,
     "sourceType": "modelInstanceVersion"
    }
   ],
   "dockerImageVersionId": 30787,
   "isGpuEnabled": true,
   "isInternetEnabled": true,
   "language": "python",
   "sourceType": "notebook"
  },
  "kernelspec": {
   "display_name": "Python 3",
   "language": "python",
   "name": "python3"
  },
  "language_info": {
   "codemirror_mode": {
    "name": "ipython",
    "version": 3
   },
   "file_extension": ".py",
   "mimetype": "text/x-python",
   "name": "python",
   "nbconvert_exporter": "python",
   "pygments_lexer": "ipython3",
   "version": "3.10.14"
  }
 },
 "nbformat": 4,
 "nbformat_minor": 4
}
